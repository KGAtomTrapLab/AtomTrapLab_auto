{
 "cells": [
  {
   "cell_type": "code",
   "execution_count": 1,
   "metadata": {},
   "outputs": [],
   "source": [
    "import Laser_controller_functions as lc"
   ]
  },
  {
   "cell_type": "code",
   "execution_count": 2,
   "metadata": {},
   "outputs": [
    {
     "name": "stdout",
     "output_type": "stream",
     "text": [
      "0.0\n",
      "3.13000000E-05\n",
      "\n"
     ]
    }
   ],
   "source": [
    "print(lc.getCurrent('arroyo'))\n",
    "print(lc.getCurrent('thor labs'))"
   ]
  },
  {
   "cell_type": "code",
   "execution_count": 3,
   "metadata": {},
   "outputs": [
    {
     "name": "stdout",
     "output_type": "stream",
     "text": [
      "0.0\n"
     ]
    }
   ],
   "source": [
    "lc.setCurrent(0,\"Arroyo\")\n",
    "print(lc.getCurrent(\"arroyo\"))"
   ]
  },
  {
   "cell_type": "code",
   "execution_count": 4,
   "metadata": {},
   "outputs": [
    {
     "name": "stdout",
     "output_type": "stream",
     "text": [
      "Arroyo Test Start\n",
      "Pass laser off\n",
      "Laser current 50.0\n",
      "Laser current 0.0\n",
      "Arroyo test end\n"
     ]
    }
   ],
   "source": [
    "print(\"Arroyo Test Start\")\n",
    "x = lc.getLaserStatus(\"arroyo\")\n",
    "if not x:\n",
    "    print(\"Pass laser off\")    \n",
    "lc.setCurrent(50, \"arroyo\")\n",
    "c = lc.getCurrent(\"arroyo\")\n",
    "print(f\"Laser current {c}\")\n",
    "lc.setCurrent(0, \"arroyo\")\n",
    "c = lc.getCurrent(\"arroyo\")\n",
    "print(f\"Laser current {c}\")\n",
    "print(\"Arroyo test end\")"
   ]
  },
  {
   "cell_type": "code",
   "execution_count": null,
   "metadata": {},
   "outputs": [],
   "source": []
  }
 ],
 "metadata": {
  "kernelspec": {
   "display_name": "Python 3",
   "language": "python",
   "name": "python3"
  },
  "language_info": {
   "codemirror_mode": {
    "name": "ipython",
    "version": 3
   },
   "file_extension": ".py",
   "mimetype": "text/x-python",
   "name": "python",
   "nbconvert_exporter": "python",
   "pygments_lexer": "ipython3",
   "version": "3.7.4"
  }
 },
 "nbformat": 4,
 "nbformat_minor": 2
}
