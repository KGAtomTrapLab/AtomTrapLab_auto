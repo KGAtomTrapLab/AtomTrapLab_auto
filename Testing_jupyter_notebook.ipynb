{
 "cells": [
  {
   "cell_type": "code",
   "execution_count": 1,
   "metadata": {},
   "outputs": [],
   "source": [
    "import Laser_controller_functions as lc"
   ]
  },
  {
   "cell_type": "code",
   "execution_count": null,
   "metadata": {},
   "outputs": [],
   "source": [
    "print(lc.getCurrent('arroyo'))\n",
    "print(lc.getCurrent('thor labs'))"
   ]
  },
  {
   "cell_type": "code",
   "execution_count": null,
   "metadata": {},
   "outputs": [],
   "source": [
    "lc.setCurrent(0,\"Arroyo\")\n",
    "print(lc.getCurrent(\"arroyo\"))"
   ]
  },
  {
   "cell_type": "code",
   "execution_count": null,
   "metadata": {},
   "outputs": [],
   "source": [
    "print(\"Arroyo Test Start\")\n",
    "x = lc.getLaserStatus(\"arroyo\")\n",
    "if not x:\n",
    "    print(\"Pass laser off\")    \n",
    "lc.setCurrent(50, \"arroyo\")\n",
    "c = lc.getCurrent(\"arroyo\")\n",
    "print(f\"Laser current {c}\")\n",
    "lc.setCurrent(0, \"arroyo\")\n",
    "c = lc.getCurrent(\"arroyo\")\n",
    "print(f\"Laser current {c}\")\n",
    "print(\"Arroyo test end\")"
   ]
  },
  {
   "cell_type": "code",
   "execution_count": null,
   "metadata": {},
   "outputs": [],
   "source": [
    "print(lc.getLaserStatus('thor labs'))"
   ]
  },
  {
   "cell_type": "code",
   "execution_count": null,
   "metadata": {},
   "outputs": [],
   "source": [
    "print(\"Thor Labs Laser Controller Test Start\")\n",
    "x = lc.getLaserStatus(\"thor labs\")\n",
    "if not x: \n",
    "    print(\"Pass Laser off\")\n",
    "lc.turnOnLaser(\"thor labs\")\n",
    "x = lc.getLaserStatus(\"Thor labs\")\n",
    "if x:\n",
    "    print(\"Pass laser on\")\n",
    "lc.setCurrent(50,'thor labs')\n",
    "c = lc.getCurrent('thor labs')\n",
    "print(f'Laser Current {c}')\n",
    "lc.setCurrent(0,'thor labs')\n",
    "c = lc.getCurrent('thor labs')\n",
    "print(f'Laser Current {c}')\n",
    "lc.turnOffLaser('thor labs')\n",
    "x = lc.getLaserStatus(\"Thor labs\")\n",
    "if not x: \n",
    "    print(\"Pass Laser off\")\n",
    "print('Thor Labs test end')"
   ]
  },
  {
   "cell_type": "code",
   "execution_count": null,
   "metadata": {},
   "outputs": [],
   "source": [
    "lc.setCurrent(5,'thor labs')"
   ]
  },
  {
   "cell_type": "code",
   "execution_count": 2,
   "metadata": {},
   "outputs": [
    {
     "data": {
      "text/plain": [
       "6.4458e-06"
      ]
     },
     "execution_count": 2,
     "metadata": {},
     "output_type": "execute_result"
    }
   ],
   "source": [
    "lc.getCurrent('thor labs')"
   ]
  },
  {
   "cell_type": "code",
   "execution_count": null,
   "metadata": {},
   "outputs": [],
   "source": [
    "lc.turnOnLaser('thor labs')"
   ]
  },
  {
   "cell_type": "code",
   "execution_count": null,
   "metadata": {},
   "outputs": [],
   "source": [
    "lc.getLaserStatus('Thor labs')"
   ]
  },
  {
   "cell_type": "code",
   "execution_count": null,
   "metadata": {},
   "outputs": [],
   "source": [
    "lc.turnOffLaser('thor labs')"
   ]
  },
  {
   "cell_type": "code",
   "execution_count": 6,
   "metadata": {},
   "outputs": [
    {
     "name": "stdout",
     "output_type": "stream",
     "text": [
      ":RESI:ACT 1.22051000E+04\n",
      "\n",
      ":RESI:SET 1.00000000E+04\n",
      "\n"
     ]
    }
   ],
   "source": [
    "print(lc.getTemperature('thor labs'))\n",
    "print(lc.ThorLabs.query(\":RESI:SET?\"))"
   ]
  },
  {
   "cell_type": "code",
   "execution_count": 12,
   "metadata": {},
   "outputs": [
    {
     "data": {
      "text/plain": [
       "(10, <StatusCode.success: 0>)"
      ]
     },
     "execution_count": 12,
     "metadata": {},
     "output_type": "execute_result"
    }
   ],
   "source": [
    "lc.ThorLabs.write(\":TEC OFF\")"
   ]
  },
  {
   "cell_type": "code",
   "execution_count": null,
   "metadata": {},
   "outputs": [],
   "source": []
  }
 ],
 "metadata": {
  "kernelspec": {
   "display_name": "Python 3",
   "language": "python",
   "name": "python3"
  },
  "language_info": {
   "codemirror_mode": {
    "name": "ipython",
    "version": 3
   },
   "file_extension": ".py",
   "mimetype": "text/x-python",
   "name": "python",
   "nbconvert_exporter": "python",
   "pygments_lexer": "ipython3",
   "version": "3.7.4"
  }
 },
 "nbformat": 4,
 "nbformat_minor": 2
}
